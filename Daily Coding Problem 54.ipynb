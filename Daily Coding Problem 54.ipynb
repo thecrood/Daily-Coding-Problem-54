{
 "cells": [
  {
   "cell_type": "markdown",
   "id": "39594202",
   "metadata": {},
   "source": [
    "# Daily Coding Problem 54"
   ]
  },
  {
   "cell_type": "markdown",
   "id": "91fdb33f",
   "metadata": {},
   "source": [
    "This problem was asked by Dropbox.\n",
    "\n",
    "Sudoku is a puzzle where you're given a partially-filled 9 by 9 grid with digits. The objective is to fill the grid with the constraint that every row, column, and box (3 by 3 subgrid) must contain all of the digits from 1 to 9.\n",
    "\n",
    "Implement an efficient sudoku solver."
   ]
  },
  {
   "cell_type": "markdown",
   "id": "ba6f5ee8",
   "metadata": {},
   "source": [
    "# Solution\n",
    "\n",
    "Trying brute force on a sudoku board will take a really long time: we will need to try every permutation of the numbers 1-9 for all the non-empty squares.\n",
    "\n",
    "Let's try using backtracking to solve this problem instead. What we can do is try filling each empty cell one by one, and backtrack once we hit an invalid state.\n",
    "\n",
    "To do this, we'll need an valid_so_far function that tests the board for its validity by checking all the rows, columns, and squares. Then we'll backtrack as usual:"
   ]
  },
  {
   "cell_type": "code",
   "execution_count": 1,
   "id": "995d38b0",
   "metadata": {},
   "outputs": [],
   "source": [
    "X = None # Placeholder empty value\n",
    "\n",
    "def sudoku(board):\n",
    "    if is_complete(board):\n",
    "        return board\n",
    "\n",
    "    r, c = find_first_empty(board)\n",
    "    # set r, c to a val from 1 to 9\n",
    "    for i in range(1, 10):\n",
    "        board[r][c] = i\n",
    "        if valid_so_far(board):\n",
    "            result = sudoku(board)\n",
    "            if is_complete(result):\n",
    "                return result\n",
    "        board[r][c] = X\n",
    "    return board\n",
    "\n",
    "def is_complete(board):\n",
    "    return all(all(val is not X for val in row) for row in board)\n",
    "\n",
    "def find_first_empty(board):\n",
    "    for i, row in enumerate(board):\n",
    "        for j, val in enumerate(row):\n",
    "            if val == X:\n",
    "                return i, j\n",
    "    return False\n",
    "\n",
    "def valid_so_far(board):\n",
    "    if not rows_valid(board):\n",
    "        return False\n",
    "    if not cols_valid(board):\n",
    "        return False\n",
    "    if not blocks_valid(board):\n",
    "        return False\n",
    "    return True\n",
    "\n",
    "def rows_valid(board):\n",
    "    for row in board:\n",
    "        if duplicates(row):\n",
    "            return False\n",
    "    return True\n",
    "\n",
    "def cols_valid(board):\n",
    "    for j in range(len(board[0])):\n",
    "        if duplicates([board[i][j] for i in range(len(board))]):\n",
    "            return False\n",
    "    return True\n",
    "\n",
    "def blocks_valid(board):\n",
    "    for i in range(0, 9, 3):\n",
    "        for j in range(0, 9, 3):\n",
    "            block = []\n",
    "            for k in range(3):\n",
    "                for l in range(3):\n",
    "                    block.append(board[i + k][j + l])\n",
    "            if duplicates(block):\n",
    "                return False\n",
    "    return True\n",
    "\n",
    "def duplicates(arr):\n",
    "    c = {}\n",
    "    for val in arr:\n",
    "        if val in c and val is not X:\n",
    "            return True\n",
    "        c[val] = True\n",
    "    return False"
   ]
  },
  {
   "cell_type": "code",
   "execution_count": null,
   "id": "a2228388",
   "metadata": {},
   "outputs": [],
   "source": []
  },
  {
   "cell_type": "code",
   "execution_count": null,
   "id": "80e38ba8",
   "metadata": {},
   "outputs": [],
   "source": []
  }
 ],
 "metadata": {
  "kernelspec": {
   "display_name": "Python 3 (ipykernel)",
   "language": "python",
   "name": "python3"
  },
  "language_info": {
   "codemirror_mode": {
    "name": "ipython",
    "version": 3
   },
   "file_extension": ".py",
   "mimetype": "text/x-python",
   "name": "python",
   "nbconvert_exporter": "python",
   "pygments_lexer": "ipython3",
   "version": "3.8.10"
  }
 },
 "nbformat": 4,
 "nbformat_minor": 5
}
